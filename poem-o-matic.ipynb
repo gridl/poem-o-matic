{
 "cells": [
  {
   "cell_type": "markdown",
   "metadata": {},
   "source": [
    "# Poem-O-Matic\n",
    "\n",
    "This is a description, in both code and prose, of how to generate original poetry on demand using a computer and the Python programming language. It's based upon work done in the London Python Code Dojo with Dan Pope and Hans Bolang. I've taken some of our original ideas and run with them, specifically:\n",
    "\n",
    "_If you re-assemble unrelated lines from different poems into a new poetic structure, you get a pretty convincing __new__ poem._\n",
    "\n",
    "This is an exercise in doing the __simplest possible thing__ with a program to _fool humans_ into thinking the computer can write poetry. There are two reasons for this:\n",
    "\n",
    "* Simple solutions are easy to understand and think about.\n",
    "* Simple solutions work well in an educational context.\n",
    "\n",
    "To be blunt: we're going to use software to automate a sneaky way to create poems. The basic process is simple:\n",
    "\n",
    "* Take a huge number of existing source poems (written by humans) and chop them up into their constituent lines. These thousands of lines will be our source material.\n",
    "* Work out how the source lines rhyme and group them together into \"buckets\" containing lines that rhyme with each other.\n",
    "* Further categorise the rhymes in each bucket by word ending. For example, sub-categorise the bucket that rhymes with \"uck\" into slots for \"look\", \"book\", \"suck\" etc.\n",
    "* Specify a rhyming scheme. For example \"aabba\" means lines one, two and five (the \"a\"s) rhyme with each other, as do lines three and four (the \"b\"s).\n",
    "* Use the rhyming scheme to randomly select a bucket for each letter (for example, one bucket for the \"a\"s and yet another bucket for the \"b\"s) and randomly select a line from different word endings for each line in the rhyming scheme.\n",
    "\n",
    "Here's a practical example of this process in plain English:\n",
    "\n",
    "Consider the following three poems I just made up:\n",
    "\n",
    "```\n",
    "Poem 1\n",
    "\n",
    "This is a special poem,\n",
    "The words, they are a flowing.\n",
    "It almost seems quite pointless,\n",
    "Since this poem is meaningless.\n",
    "\n",
    "Poem 2\n",
    "\n",
    "Oh, my keyboard is on fire,\n",
    "Causing consternation and ire.\n",
    "Since words are cheap and cheerful,\n",
    "It's going to be quite an earful.\n",
    "\n",
    "Poem 3\n",
    "\n",
    "Words are relentless,\n",
    "They light up minds like fire.\n",
    "Causing us to express,\n",
    "Ideas that flow like quagmire.\n",
    "```\n",
    "\n",
    "The rhyming schemes for each poem are as follows:\n",
    "\n",
    "* Poem 1: aabb\n",
    "* Poem 2: aabb\n",
    "* Poem 3: abab\n",
    "\n",
    "If we cut up the poems into their constituent lines we get:\n",
    "\n",
    "```\n",
    "This is a special poem,\n",
    "It almost seems quite pointless,\n",
    "They light up minds like fire.\n",
    "Since this poem is meaningless.\n",
    "Causing consternation and ire.\n",
    "It's going to be quite an earful.\n",
    "Oh, my keyboard is on fire,\n",
    "Words are relentless,\n",
    "Since words are cheap and cheerful,\n",
    "Causing us to express,\n",
    "The words, they are a flowing.\n",
    "Ideas that flow like quagmire.\n",
    "```\n",
    "\n",
    "If we bucket them by rhymes we get the following four groups:\n",
    "\n",
    "```\n",
    "The words, they are a flowing.\n",
    "This is a special poem,\n",
    "\n",
    "It almost seems quite pointless,\n",
    "Words are relentless,\n",
    "Since this poem is meaningless.\n",
    "Causing us to express,\n",
    "\n",
    "They light up minds like fire.\n",
    "Oh, my keyboard is on fire,\n",
    "Causing consternation and ire.\n",
    "Ideas that flow like quagmire.\n",
    "\n",
    "It's going to be quite an earful.\n",
    "Since words are cheap and cheerful,\n",
    "```\n",
    "\n",
    "We can further refine the buckets into sub-categories based on word endings:\n",
    "\n",
    "```\n",
    "FLOWING:\n",
    "  The words, they are a flowing.\n",
    "POEM:\n",
    "  This is a special poem,\n",
    "\n",
    "POINTLESS:\n",
    "  It almost seems quite pointless,\n",
    "RELENTLESS:\n",
    "  Words are relentless,\n",
    "MEANINGLESS:\n",
    "  Since this poem is meaningless.\n",
    "EXPRESS:\n",
    "  Causing us to express,\n",
    "\n",
    "FIRE:\n",
    "  They light up minds like fire.\n",
    "  Oh, my keyboard is on fire,\n",
    "IRE:\n",
    "  Causing consternation and ire.\n",
    "QUAGMIRE:\n",
    "  Ideas that flow like quagmire.\n",
    "\n",
    "EARFUL:\n",
    "  It's going to be quite an earful.\n",
    "CHEERFUL:\n",
    "  Since words are cheap and cheerful,\n",
    "```\n",
    "\n",
    "Notice how all but one of the subcategories contain a single line. This is simply because our source poems are limited in number and length. In the programmed example below we'll be working with hundreds of thousands of lines of poetry.\n",
    "\n",
    "To generate a new poem we specify a rhyming scheme for the new poem, for example: aabba. This tells us we need three \"a\" lines that rhyme with each other and two \"b\" lines that rhyme with each other. In other words we need two buckets of rhyming lines - from one we'll select three lines, from the other two lines. Given the list above I'll randomly pick the second and third buckets. Given that I don't want to repeat word endings I'll make sure I randomly choose lines from each bucket from a different word-ending subcategory. In the end I get the following lines:\n",
    "\n",
    "```\n",
    "Oh, my keyboard is on fire,\n",
    "Causing consternation and ire.\n",
    "Ideas that flow like quagmire.\n",
    "\n",
    "It almost seems quite pointless,\n",
    "Since this poem is meaningless.\n",
    "```\n",
    "\n",
    "If I arrange the lines into the aabba rhyming scheme I end up with the finished poem:\n",
    "\n",
    "```\n",
    "Oh, my keyboard is on fire,\n",
    "Causing consternation and ire.\n",
    "It almost seems quite pointless,\n",
    "Since this poem is meaningless.\n",
    "Ideas that flow like quagmire.\n",
    "```\n",
    "\n",
    "Given such a simple technique, the result is both interesting, meaningful and (almost) poetic.\n",
    "\n",
    "As already mentioned, the important \"poetic sounding\" langauge is created by real poets - we're just going to use a Python program to reassemble lines from these poems to make new poetry.\n",
    "\n",
    "Where can we get such free source material..? Easy, the wonderful resource that is [Project Gutenberg](https://www.gutenberg.org/wiki/Main_Page). \n",
    "\n",
    "I've selected the following anthologies as the source material for this project:\n",
    "\n",
    "* [The Sonnets by Shakespeare](https://www.gutenberg.org/ebooks/1105)\n",
    "* [The World's Best Poetry, Volume 04: The Higher Life by Gladden and Carman](https://www.gutenberg.org/ebooks/12759)\n",
    "* [Leaves of Grass by Walt Whitman](https://www.gutenberg.org/ebooks/1322)\n",
    "* [A Book of Nonsense by Edward Lear](https://www.gutenberg.org/ebooks/13646)\n",
    "* [The Golden Treasury by Francis Turner Palgrave and Alfred Pearse](https://www.gutenberg.org/ebooks/19221)\n",
    "* [A Child's Garden of Verses by Robert Louis Stevenson](https://www.gutenberg.org/ebooks/19722)\n",
    "* [The Peter Patter Book of Nursery Rhymes by Leroy F. Jackson](https://www.gutenberg.org/ebooks/22014)\n",
    "* [The Aeneid by Virgil](https://www.gutenberg.org/ebooks/228)\n",
    "* [Songs of Childhood by Walter De la Mare](https://www.gutenberg.org/ebooks/23545)\n",
    "* [Poems Chiefly from Manuscript by John Clare](https://www.gutenberg.org/ebooks/8672)\n",
    "* [A Treasury of War Poetry: British and American Poems of the World War 1914-1917](https://www.gutenberg.org/ebooks/8820)\n",
    "\n",
    "I've put plain text versions of these works in the `sources` directory, and manually removed the prose elements of these files (introductions, titles, author's names etc).\n",
    "\n",
    "## Consuming Source Poetry\n",
    "\n",
    "First, we need to get a list of all the source files:"
   ]
  },
  {
   "cell_type": "code",
   "execution_count": null,
   "metadata": {
    "collapsed": false
   },
   "outputs": [],
   "source": [
    "from os import listdir\n",
    "from os.path import isfile, join\n",
    "\n",
    "mypath = 'sources'\n",
    "\n",
    "filenames = [join(mypath, f) for f in listdir(mypath) if isfile(join(mypath, f))]\n",
    "print(filenames)"
   ]
  },
  {
   "cell_type": "markdown",
   "metadata": {},
   "source": [
    "Next, we need to load each file and extract the lines of poetry into a `set` of all known lines of poetry:"
   ]
  },
  {
   "cell_type": "code",
   "execution_count": null,
   "metadata": {
    "collapsed": false
   },
   "outputs": [],
   "source": [
    "LINES_OF_POETRY = set()  # All our lines will be added to this set.\n",
    "\n",
    "for source_file in filenames:  # For each source file...\n",
    "    with open(source_file) as source:  # Open it as the object 'source'\n",
    "        for line in source.readlines():  # Now, for each line in the new 'source' object,\n",
    "            clean_line = line.strip()  # remove all the leading and trailing whitespace from the line,\n",
    "            clean_line += '\\n'  # re-add a newline character,\n",
    "            LINES_OF_POETRY.add(clean_line)  # and add it to the set of all lines of poetry\n",
    "            \n",
    "print('We have {} unique lines of poetry.'.format(len(LINES_OF_POETRY)))"
   ]
  },
  {
   "cell_type": "markdown",
   "metadata": {},
   "source": [
    "## Cleaning and Transforming the Data\n",
    "\n",
    "In order to re-combine these lines into new poems we need to work out how the lines relate to each other in terms of rhyming. To do this we need to know about phonemes - the sounds that make up speech. The `cmudict.0.7a.phones` file contains definitions and categorisations (vowel, frictive, etc) of the phonemes used in English:"
   ]
  },
  {
   "cell_type": "code",
   "execution_count": null,
   "metadata": {
    "collapsed": false
   },
   "outputs": [],
   "source": [
    "# Load the phoneme table\n",
    "with open('cmudict.0.7a.phones') as phoneme_definitions:\n",
    "    PHONEMES = dict(line.split() for line in phoneme_definitions.readlines())\n",
    "\n",
    "print(PHONEMES)"
   ]
  },
  {
   "cell_type": "markdown",
   "metadata": {},
   "source": [
    "Next, we create a simple function to determine if a phoneme is a vowel:"
   ]
  },
  {
   "cell_type": "code",
   "execution_count": null,
   "metadata": {
    "collapsed": true
   },
   "outputs": [],
   "source": [
    "def is_vowel(phoneme):\n",
    "    \"\"\"\n",
    "    A utility function to determine if a phoneme is a vowel.\n",
    "    \"\"\"\n",
    "    return PHONEMES.get(phoneme) == 'vowel'"
   ]
  },
  {
   "cell_type": "markdown",
   "metadata": {},
   "source": [
    "The `cmudict.0.7a` file contains a mapping of spelled words to pronunciations expressed as phonemes:"
   ]
  },
  {
   "cell_type": "code",
   "execution_count": null,
   "metadata": {
    "collapsed": false
   },
   "outputs": [],
   "source": [
    "# Create a rhyming definition dictionary\n",
    "with open('cmudict.0.7a') as pronunciation_definitions:  # Load the CMU phoneme definitions of pronunciation.\n",
    "    PRONUNCIATIONS = pronunciation_definitions.readlines()\n",
    "\n",
    "print(PRONUNCIATIONS[80:90])"
   ]
  },
  {
   "cell_type": "markdown",
   "metadata": {},
   "source": [
    "We're in a position to create a rhyme dictionary we can use to look up words and discover rhymes."
   ]
  },
  {
   "cell_type": "code",
   "execution_count": null,
   "metadata": {
    "collapsed": false
   },
   "outputs": [],
   "source": [
    "import re\n",
    "RHYME_DICTIONARY = {}\n",
    "for pronunciation in PRONUNCIATIONS:  # For each pronunciation in the list of pronunciations,\n",
    "    pronunciation = re.sub(r'\\d', '', pronunciation)  # strip phomeme stresses in the definition (not interesting to us),\n",
    "    tokens = pronunciation.strip().split()  # get the tokens that define the pronunciation,\n",
    "    word = tokens[0]  # the word whose pronunciation is defined is always in position zero of the listed tokens,\n",
    "    phonemes = tokens[:0:-1]  # the phonemes that define the pronunciation are the rest of the tokens. We reverse these!\n",
    "    phonemes_to_rhyme = []  # This will hold the phonemes we use to rhyme words.\n",
    "    for phoneme in phonemes:\n",
    "        phonemes_to_rhyme.append(phoneme)\n",
    "        if is_vowel(phoneme):\n",
    "            break  # We only need to rhyme from the last phoneme to the final vowel. Remember the phonemes are reversed!\n",
    "    RHYME_DICTIONARY[word] = tuple(phonemes_to_rhyme)\n",
    "print('There are {} items in the rhyme dictionary.'.format(len(RHYME_DICTIONARY)))"
   ]
  },
  {
   "cell_type": "markdown",
   "metadata": {},
   "source": [
    "Given that we're rhyming the last word of each line, we need a function to identify what the last word of any given line actually is:"
   ]
  },
  {
   "cell_type": "code",
   "execution_count": null,
   "metadata": {
    "collapsed": true
   },
   "outputs": [],
   "source": [
    "def last_word(line):\n",
    "    \"\"\"\n",
    "    Return the last word in a line (stripping punctuation).\n",
    "\n",
    "    Raise ValueError if the last word cannot be identified.\n",
    "    \"\"\"\n",
    "    match_for_last_word = re.search(r\"([\\w']+)\\W*$\", line)\n",
    "    if match_for_last_word:\n",
    "        word = match_for_last_word.group(1)\n",
    "        word = re.sub(r\"'d$\", 'ed', word)  # expand old english contraction of -ed\n",
    "        return word.upper()\n",
    "    raise ValueError(\"No word in line.\")"
   ]
  },
  {
   "cell_type": "markdown",
   "metadata": {},
   "source": [
    "The next step is to collect all the lines from our source poems into lines that all rhyme."
   ]
  },
  {
   "cell_type": "code",
   "execution_count": null,
   "metadata": {
    "collapsed": false
   },
   "outputs": [],
   "source": [
    "from collections import defaultdict\n",
    "\n",
    "lines_by_rhyme = defaultdict(list)\n",
    "for line in LINES_OF_POETRY:\n",
    "    try:\n",
    "        rhyme = RHYME_DICTIONARY[last_word(line)]\n",
    "    except (KeyError, ValueError):\n",
    "        continue\n",
    "    lines_by_rhyme[rhyme].append(line)\n",
    "\n",
    "LINES_THAT_RHYME = [l for l in lines_by_rhyme.values() if len(l) > 1]\n",
    "\n",
    "print(\"Number of rhymes found is: {}\".format(len(LINES_THAT_RHYME)))"
   ]
  },
  {
   "cell_type": "markdown",
   "metadata": {},
   "source": [
    "The final transformation of the data is to group the individual rhymes into ending words (so all the lines that end in \"look\", \"nook\" and \"book\" are collected together, for example). This well help us avoid rhyming lines with the same word."
   ]
  },
  {
   "cell_type": "code",
   "execution_count": null,
   "metadata": {
    "collapsed": false
   },
   "outputs": [],
   "source": [
    "RHYME_DATA = []\n",
    "for lines in LINES_THAT_RHYME:\n",
    "    lines_by_word = defaultdict(list)\n",
    "    for line in lines:\n",
    "        end_word = last_word(line)\n",
    "        lines_by_word[end_word].append(line)\n",
    "    RHYME_DATA.append(dict(lines_by_word))\n",
    "\n",
    "print(RHYME_DATA[1:3])"
   ]
  },
  {
   "cell_type": "markdown",
   "metadata": {},
   "source": [
    "## Generating Poetry\n",
    "\n",
    "Given the data found in `RHYME_DATA` we're finally in a position to reassemble rhyming lines from our source poems to make new poetry.\n",
    "\n",
    "It's important to make sure that, no matter the content of the final line, we ensure it ends with the correct punctuation. So we make a function to do this for us:"
   ]
  },
  {
   "cell_type": "code",
   "execution_count": null,
   "metadata": {
    "collapsed": true
   },
   "outputs": [],
   "source": [
    "def terminate_poem(poem):\n",
    "    \"\"\"\n",
    "    Given a list of poem lines, fix the punctuation of the last line.\n",
    "\n",
    "    Removes any non-word characters and substitutes a random sentence\n",
    "    terminator - ., ! or ?.\n",
    "    \"\"\"\n",
    "    last = re.sub(r'\\W*$', '', poem[-1])\n",
    "    punc = random.choice(['!', '.', '.', '.', '.', '?', '...'])\n",
    "    return poem[:-1] + [last + punc]"
   ]
  },
  {
   "cell_type": "markdown",
   "metadata": {},
   "source": [
    "We also need to be able to define a rhyme scheme. For example, `\"aabba\"` means the first, second and fifth lines all rhyme (`a`) and the third and fourth lines rhyme (`b`). We could, of course write other schemes such as: `\"aabbaaccaa\"`. Nevertheless, the `\"aabba\"` scheme is a safe default.\n",
    "\n"
   ]
  },
  {
   "cell_type": "code",
   "execution_count": null,
   "metadata": {
    "collapsed": false
   },
   "outputs": [],
   "source": [
    "import random\n",
    "from collections import Counter\n",
    "\n",
    "\n",
    "def build_poem(rhyme_scheme=\"aabba\", rhymes=RHYME_DATA):\n",
    "    \"\"\"\n",
    "    Build a poem given a rhyme scheme.\n",
    "    \"\"\"\n",
    "    groups = Counter(rhyme_scheme)  # Work out how many lines of each sort of rhyming group are needed\n",
    "    lines = {}  # Will hold lines for given rhyming groups.\n",
    "    for name, number in groups.items():\n",
    "        candidate = random.choice([r for r in rhymes if len(r) >= number])  # Select candidate rhymes with enough lines.\n",
    "        word_ends = list(candidate.keys())  # Get the candidate rhyming words.\n",
    "        random.shuffle(word_ends)  # Randomly shuffle them.\n",
    "        lines_to_use = []  # Will hold the lines selected to use in the final poem for this given rhyming group.\n",
    "        for i in range(number):  # For all the needed number of lines for this rhyming group,\n",
    "            lines_to_use.append(random.choice(candidate[word_ends.pop()]))  # Randomly select a line for a new word end.\n",
    "        lines[name] = lines_to_use  # Add the lines for the rhyming group to the available lines.\n",
    "\n",
    "    # Given a selection of lines, we need to order them into the specified rhyming scheme.\n",
    "    poem = []  # To hold the ordered list of lines for the new poem.\n",
    "    for k in rhyme_scheme:  # For each rhyming group name specification for a line...\n",
    "            poem.append(lines[k].pop())  # Simply take a line from the specified rhyming group.\n",
    "    return terminate_poem(poem)  # Return the result as a list with the final line appropriately punctuated."
   ]
  },
  {
   "cell_type": "markdown",
   "metadata": {},
   "source": [
    "Finally, we can call the `build_poem` function to get a list of the lines for our new poem."
   ]
  },
  {
   "cell_type": "code",
   "execution_count": null,
   "metadata": {
    "collapsed": false
   },
   "outputs": [],
   "source": [
    "my_poem = build_poem()  # Get an ordered list of the lines encompassing my new poem.\n",
    "poem = ''.join(my_poem)  # Turn them into a single printable string.\n",
    "print(poem)"
   ]
  },
  {
   "cell_type": "markdown",
   "metadata": {},
   "source": [
    "Example output:\n",
    "\n",
    "```\n",
    "Breake ill eggs ere they be hatched:\n",
    "The flower in ripen'd bloom unmatch'd\n",
    "Sparrows fighting on the thatch.\n",
    "And where hens lay, and when the duck will hatch.\n",
    "Though by no hand untimely snatch'd...\n",
    "```\n",
    "\n",
    "You could also change the rhyming scheme too:"
   ]
  },
  {
   "cell_type": "code",
   "execution_count": null,
   "metadata": {
    "collapsed": false
   },
   "outputs": [],
   "source": [
    "my_poem = build_poem('aabbaaccaa')\n",
    "poem = ''.join(my_poem)\n",
    "print(poem)"
   ]
  },
  {
   "cell_type": "code",
   "execution_count": null,
   "metadata": {
    "collapsed": true
   },
   "outputs": [],
   "source": []
  }
 ],
 "metadata": {
  "kernelspec": {
   "display_name": "Python 3",
   "language": "python",
   "name": "python3"
  },
  "language_info": {
   "codemirror_mode": {
    "name": "ipython",
    "version": 3
   },
   "file_extension": ".py",
   "mimetype": "text/x-python",
   "name": "python",
   "nbconvert_exporter": "python",
   "pygments_lexer": "ipython3",
   "version": "3.5.2+"
  }
 },
 "nbformat": 4,
 "nbformat_minor": 2
}
